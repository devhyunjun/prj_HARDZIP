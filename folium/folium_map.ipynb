{
 "cells": [
  {
   "attachments": {},
   "cell_type": "markdown",
   "metadata": {},
   "source": [
    "# 폴리움 군집 시각화 "
   ]
  },
  {
   "attachments": {},
   "cell_type": "markdown",
   "metadata": {},
   "source": [
    "## 폴리움 시각화 데이터 준비"
   ]
  },
  {
   "cell_type": "code",
   "execution_count": 14,
   "metadata": {},
   "outputs": [],
   "source": [
    "from data_preparation import get_cluster_df, get_data\n",
    "from folium_data_prep import filter_by_service, drop_columns, join_with_previous_df\n",
    "from perform_clustering import perform_clustering\n",
    "from folium_visualize import adjust_cluster, create_map"
   ]
  },
  {
   "cell_type": "code",
   "execution_count": 2,
   "metadata": {},
   "outputs": [],
   "source": [
    "clustering_df = get_cluster_df() \n",
    "previous_df_for_join = get_data() "
   ]
  },
  {
   "cell_type": "code",
   "execution_count": 3,
   "metadata": {},
   "outputs": [],
   "source": [
    "villa_clustering_df = filter_by_service(clustering_df, 'service_type_빌라', 1)\n",
    "oneroom_clustering_df = filter_by_service(clustering_df, 'service_type_원룸', 1)\n",
    "officetel_clustering_df = filter_by_service(clustering_df, 'service_type_오피스텔', 1)\n",
    "\n",
    "villa_clustering_df = drop_columns(villa_clustering_df, ['service_type_빌라','service_type_오피스텔','service_type_원룸'])\n",
    "oneroom_clustering_df = drop_columns(oneroom_clustering_df, ['service_type_빌라','service_type_오피스텔','service_type_원룸'])\n",
    "officetel_clustering_df = drop_columns(officetel_clustering_df, ['service_type_빌라','service_type_오피스텔','service_type_원룸'])"
   ]
  },
  {
   "cell_type": "code",
   "execution_count": 4,
   "metadata": {},
   "outputs": [],
   "source": [
    "villa_cluster = perform_clustering(villa_clustering_df)\n",
    "oneroom_cluster = perform_clustering(oneroom_clustering_df)\n",
    "officetel_cluster = perform_clustering(officetel_clustering_df)"
   ]
  },
  {
   "cell_type": "code",
   "execution_count": 5,
   "metadata": {},
   "outputs": [],
   "source": [
    "villa_cluster = join_with_previous_df(villa_cluster, previous_df_for_join, '빌라') \n",
    "oneroom_cluster = join_with_previous_df(oneroom_cluster, previous_df_for_join, '원룸') \n",
    "officetel_cluster = join_with_previous_df(officetel_cluster, previous_df_for_join, '오피스텔')"
   ]
  },
  {
   "attachments": {},
   "cell_type": "markdown",
   "metadata": {},
   "source": [
    "## 폴리움 시각화 "
   ]
  },
  {
   "cell_type": "code",
   "execution_count": 6,
   "metadata": {},
   "outputs": [],
   "source": [
    "oneroom_cluster['cluster'] = oneroom_cluster.apply(adjust_cluster, axis=1)\n",
    "officetel_cluster['cluster'] = officetel_cluster.apply(adjust_cluster, axis=1)"
   ]
  },
  {
   "cell_type": "code",
   "execution_count": 7,
   "metadata": {},
   "outputs": [],
   "source": [
    "import pandas as pd \n",
    "villa_oneroom_officetel_combined = pd.concat([villa_cluster, oneroom_cluster, officetel_cluster])"
   ]
  },
  {
   "cell_type": "code",
   "execution_count": null,
   "metadata": {},
   "outputs": [],
   "source": [
    "combined_map = create_map(villa_oneroom_officetel_combined, 18)\n",
    "combined_map"
   ]
  },
  {
   "cell_type": "code",
   "execution_count": null,
   "metadata": {},
   "outputs": [],
   "source": [
    "villa_map = create_map(villa_cluster, 6) \n",
    "villa_map "
   ]
  },
  {
   "cell_type": "code",
   "execution_count": null,
   "metadata": {},
   "outputs": [],
   "source": [
    "oneroom_map = create_map(oneroom_cluster, 6)\n",
    "oneroom_map"
   ]
  },
  {
   "cell_type": "code",
   "execution_count": null,
   "metadata": {},
   "outputs": [],
   "source": [
    "officetel_map = create_map(officetel_cluster, 6) \n",
    "officetel_map "
   ]
  },
  {
   "cell_type": "code",
   "execution_count": 55,
   "metadata": {},
   "outputs": [],
   "source": [
    "combined_map.save(\"combined_folium.html\")\n",
    "villa_map.save(\"villa_folium.html\") \n",
    "oneroom_map.save(\"oneroom_folium.html\") \n",
    "officetel_map.save(\"officetel_folium.html\") "
   ]
  }
 ],
 "metadata": {
  "kernelspec": {
   "display_name": "base",
   "language": "python",
   "name": "python3"
  },
  "language_info": {
   "codemirror_mode": {
    "name": "ipython",
    "version": 3
   },
   "file_extension": ".py",
   "mimetype": "text/x-python",
   "name": "python",
   "nbconvert_exporter": "python",
   "pygments_lexer": "ipython3",
   "version": "3.9.13"
  },
  "orig_nbformat": 4
 },
 "nbformat": 4,
 "nbformat_minor": 2
}
