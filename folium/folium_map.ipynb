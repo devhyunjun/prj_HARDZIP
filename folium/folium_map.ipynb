{
 "cells": [
  {
   "attachments": {},
   "cell_type": "markdown",
   "metadata": {},
   "source": [
    "# 폴리움 군집 시각화 "
   ]
  },
  {
   "attachments": {},
   "cell_type": "markdown",
   "metadata": {},
   "source": [
    "## 폴리움 시각화 데이터 준비"
   ]
  },
  {
   "cell_type": "code",
   "execution_count": 13,
   "metadata": {},
   "outputs": [],
   "source": [
    "from data_preparation import get_cluster_df, get_data \n",
    "clustering_df = get_cluster_df() \n",
    "previous_df_for_join = get_data() "
   ]
  },
  {
   "cell_type": "code",
   "execution_count": 14,
   "metadata": {},
   "outputs": [],
   "source": [
    "def filter_by_service(df, column_name, service_type): \n",
    "    return df[df[column_name] == service_type]\n",
    "\n",
    "def drop_columns(df, columns_to_drop): \n",
    "    return df.drop(columns_to_drop, axis=1) "
   ]
  },
  {
   "cell_type": "code",
   "execution_count": 15,
   "metadata": {},
   "outputs": [],
   "source": [
    "from sklearn.decomposition import TruncatedSVD\n",
    "from sklearn.cluster import KMeans\n",
    "from sklearn.preprocessing import MinMaxScaler\n",
    "\n",
    "def perform_clustering(dataframe, n_components=4, n_clusters=6):\n",
    "    minmax_scaled = MinMaxScaler().fit_transform(dataframe)\n",
    "    \n",
    "    dim = TruncatedSVD(n_components=n_components).fit_transform(minmax_scaled)\n",
    "    \n",
    "    model = KMeans(n_clusters=n_clusters, init='k-means++', algorithm='auto', max_iter=300, random_state=0)\n",
    "    model.fit(dim)\n",
    "    \n",
    "    dataframe['cluster'] = model.labels_\n",
    "    \n",
    "    return dataframe"
   ]
  },
  {
   "cell_type": "code",
   "execution_count": 16,
   "metadata": {},
   "outputs": [],
   "source": [
    "villa_clustering_df = filter_by_service(clustering_df, 'service_type_빌라', 1)\n",
    "oneroom_clustering_df = filter_by_service(clustering_df, 'service_type_원룸', 1)\n",
    "officetel_clustering_df = filter_by_service(clustering_df, 'service_type_오피스텔', 1)\n",
    "\n",
    "villa_clustering_df = drop_columns(villa_clustering_df, ['service_type_빌라','service_type_오피스텔','service_type_원룸'])\n",
    "oneroom_clustering_df = drop_columns(oneroom_clustering_df, ['service_type_빌라','service_type_오피스텔','service_type_원룸'])\n",
    "officetel_clustering_df = drop_columns(officetel_clustering_df, ['service_type_빌라','service_type_오피스텔','service_type_원룸'])"
   ]
  },
  {
   "cell_type": "code",
   "execution_count": 17,
   "metadata": {},
   "outputs": [],
   "source": [
    "villa_cluster = perform_clustering(villa_clustering_df)\n",
    "oneroom_cluster = perform_clustering(oneroom_clustering_df)\n",
    "officetel_cluster = perform_clustering(officetel_clustering_df)"
   ]
  },
  {
   "cell_type": "code",
   "execution_count": 20,
   "metadata": {},
   "outputs": [],
   "source": [
    "villa_cluster = villa_cluster.combine_first(filter_by_service(previous_df_for_join, 'service_type', '빌라'))\n",
    "oneroom_cluster = oneroom_cluster.combine_first(filter_by_service(previous_df_for_join, 'service_type', '원룸'))\n",
    "officetel_cluster = officetel_cluster.combine_first(filter_by_service(previous_df_for_join, 'service_type', '오피스텔'))"
   ]
  },
  {
   "attachments": {},
   "cell_type": "markdown",
   "metadata": {},
   "source": [
    "## 폴리움 시각화 "
   ]
  },
  {
   "cell_type": "code",
   "execution_count": 26,
   "metadata": {},
   "outputs": [],
   "source": [
    "import folium\n",
    "from folium.plugins import MarkerCluster\n",
    "from folium import Marker, Popup, IFrame, Circle"
   ]
  },
  {
   "cell_type": "code",
   "execution_count": 39,
   "metadata": {},
   "outputs": [],
   "source": [
    "def adjust_cluster(row):\n",
    "    if row['service_type'] == '원룸':\n",
    "        return row['cluster'] + 6\n",
    "    elif row['service_type'] == '오피스텔':\n",
    "        return row['cluster'] + 12\n",
    "    else:\n",
    "        return row['cluster']"
   ]
  },
  {
   "cell_type": "code",
   "execution_count": 40,
   "metadata": {},
   "outputs": [],
   "source": [
    "oneroom_cluster['cluster'] = oneroom_cluster.apply(adjust_cluster, axis=1)\n",
    "officetel_cluster['cluster'] = officetel_cluster.apply(adjust_cluster, axis=1)"
   ]
  },
  {
   "cell_type": "code",
   "execution_count": 42,
   "metadata": {},
   "outputs": [],
   "source": [
    "def color_select(row, num_clusters):\n",
    "    cluster = row['cluster']\n",
    "    \n",
    "    colors = ['red', 'orange', 'yellow', 'green', 'blue', 'violet', 'indigo', 'black',\n",
    "              'pink', 'brown', 'purple', 'gray', 'olive', 'cyan', 'magenta', 'lime',\n",
    "              'teal', 'navy']\n",
    "    \n",
    "    return colors[cluster]"
   ]
  },
  {
   "cell_type": "code",
   "execution_count": 43,
   "metadata": {},
   "outputs": [],
   "source": [
    "def popup_text(row):\n",
    "    pop_up_text = f\"\"\"\n",
    "    <div style=\"\n",
    "    font-size:14px;\n",
    "    line-height: 1.7;\n",
    "    color: #333;\n",
    "    background-color: #f9f9f9;\n",
    "    padding: 10px;\n",
    "    border-radius: 4px;\n",
    "    font-family: Arial, sans-serif;\n",
    "    background-size: cover;\n",
    "    \">\n",
    "    <b style=\"color: #ff4500;\">매물id:</b> {row['id']} <br>\n",
    "    <b style=\"color: #ff4500;\">주소:</b> {row['address1']} {row['address2']} <br> \n",
    "    <b style=\"color: #ff4500;\">월세(조정된):</b> {row['rent_adjusted']} <br> \n",
    "    <b style=\"color: #ff4500;\">크기:</b> {row['size_m2']}m2 <br> \n",
    "    <b style=\"color: #ff4500;\">엘레베이터:</b> {row['elevator']} <br> \n",
    "    <b style=\"color: #ff4500;\">주차:</b> {row['parking']} <br> \n",
    "    <b style=\"color: #ff4500;\">군집:</b> {row['cluster']+1} <br>\n",
    "    \n",
    "    {'<b style=\"color: #ff4500;\">외국인 비율 자취 비율이 높고 안전지수가 높은 군집 </b>' if row['cluster'] == 0 else ''} \n",
    "    {'<b style=\"color: #ff4500;\">건물 설비가 좋지 않고 낮은 층수지만 임대료가 저렴한 군집 </b>' if row['cluster'] == 1 else ''} \n",
    "    {'<b style=\"color: #ff4500;\">건물 설비가 좋지만 교통이 좋지 않은 군집</b>' if row['cluster'] == 2 else ''} \n",
    "    {'<b style=\"color: #ff4500;\">노령화지수가 높고 건물 설비가 좋지 않은 임대료가 낮은 군집</b>' if row['cluster'] == 3 else ''} \n",
    "    {'<b style=\"color: #ff4500;\">건물 설비가 좋고 주거 환경 좋지만 평수가 좁은데 비교적 집값이 높은 군집</b>' if row['cluster'] == 4 else ''} \n",
    "    {'<b style=\"color: #ff4500;\">남녀성비가 높고 안전지수가 낮고 교통이 좋지 않지만 임대료가 낮은 군집</b>' if row['cluster'] == 5 else ''} \n",
    "    \n",
    "    {'<b style=\"color: #ff4500;\">건물 설비가 좋지만 주거 환경은 안좋고 교통이 좋지 않은 군집</b>' if row['cluster'] == 6 else ''} \n",
    "    {'<b style=\"color: #ff4500;\">자취비율이 높고 안전지수가 높지만 작은 평수의 매물인 군집 </b>' if row['cluster'] == 7 else ''} \n",
    "    {'<b style=\"color: #ff4500;\">교통이 좋지 않고 안전하지 않지만 좋은 건물 설비에 비해 집값이 저렴한 군집</b>' if row['cluster'] == 8 else ''} \n",
    "    {'<b style=\"color: #ff4500;\">저층의 작은 평수의 매물이 많지만 교통이 편리하고 집값이 저렴한 군집</b>' if row['cluster'] == 9 else ''} \n",
    "    {'<b style=\"color: #ff4500;\">인구 밀도가 높고 작은 평수의 매물이지만 편의시설이랑 가까운 군집</b>' if row['cluster'] == 10 else ''} \n",
    "    {'<b style=\"color: #ff4500;\">안전지수가 높고 교통이 좋지만 임대료가 비싼 군집</b>' if row['cluster'] == 11 else ''} \n",
    "    \n",
    "    {'<b style=\"color: #ff4500;\">집값이 비교적 저렴하지만 교통이 좋지 않은 군집</b>' if row['cluster'] == 12 else ''} \n",
    "    {'<b style=\"color: #ff4500;\">모든 특징이 오피스텔 군집과 비슷해서 되게 무난한 군집</b>' if row['cluster'] == 13 else ''} \n",
    "    {'<b style=\"color: #ff4500;\">노령화지수와 안전지수가 높고 교통이 좋지만 임대료가 비싼 군집 </b>' if row['cluster'] == 14 else ''} \n",
    "    {'<b style=\"color: #ff4500;\">다른 특징들은 평균적으로 무난하지만 안전지수가 낮은 군집 </b>' if row['cluster'] == 15 else ''} \n",
    "    {'<b style=\"color: #ff4500;\">큰 평수의 매물이 많지만 임대료가 비싼 군집 </b>' if row['cluster'] == 16 else ''} \n",
    "    {'<b style=\"color: #ff4500;\">자취비율이 높고 인구가 밀집되어 교통이 좋지만 임대료가 비싼 군집</b>' if row['cluster'] == 17 else ''} \n",
    "    </div>\n",
    "    \"\"\"\n",
    "    return pop_up_text"
   ]
  },
  {
   "cell_type": "code",
   "execution_count": 38,
   "metadata": {},
   "outputs": [],
   "source": [
    "def adjust_cluster(row):\n",
    "    if row['service_type'] == '원룸':\n",
    "        return row['cluster'] + 6\n",
    "    elif row['service_type'] == '오피스텔':\n",
    "        return row['cluster'] + 12\n",
    "    else:\n",
    "        return row['cluster']"
   ]
  },
  {
   "cell_type": "code",
   "execution_count": 33,
   "metadata": {},
   "outputs": [],
   "source": [
    "def create_map(dataframe, num_clusters, location=[37.55, 127.08], zoom_start=15):\n",
    "    m = folium.Map(location=location, zoom_start=zoom_start)\n",
    "\n",
    "    for i, row in dataframe.iterrows():\n",
    "        address = dataframe['address1'][i] + dataframe['address2'][i]\n",
    "        iframe = IFrame(popup_text(row))\n",
    "        popup = Popup(iframe, min_width=500, max_width=500)\n",
    "        Circle(location = [row['y_w84'], row['x_w84']],\n",
    "               popup=popup, color=color_select(row, num_clusters), radius=50, tooltip=address\n",
    "              ).add_to(m)\n",
    "    \n",
    "    return m"
   ]
  },
  {
   "cell_type": "code",
   "execution_count": null,
   "metadata": {},
   "outputs": [],
   "source": [
    "import pandas as pd \n",
    "villa_oneroom_officetel_combined = pd.concat([villa_cluster, oneroom_cluster, officetel_cluster])\n",
    "\n",
    "combined_map = create_map(villa_oneroom_officetel_combined, 18)\n",
    "combined_map"
   ]
  },
  {
   "cell_type": "code",
   "execution_count": null,
   "metadata": {},
   "outputs": [],
   "source": [
    "villa_map = create_map(villa_cluster, 6) \n",
    "villa_map "
   ]
  },
  {
   "cell_type": "code",
   "execution_count": null,
   "metadata": {},
   "outputs": [],
   "source": [
    "oneroom_map = create_map(oneroom_cluster, 6)\n",
    "oneroom_map"
   ]
  },
  {
   "cell_type": "code",
   "execution_count": null,
   "metadata": {},
   "outputs": [],
   "source": [
    "officetel_map = create_map(officetel_cluster, 6) \n",
    "officetel_map "
   ]
  },
  {
   "cell_type": "code",
   "execution_count": 55,
   "metadata": {},
   "outputs": [],
   "source": [
    "combined_map.save(\"combined_folium.html\")\n",
    "villa_map.save(\"villa_folium.html\") \n",
    "oneroom_map.save(\"oneroom_folium.html\") \n",
    "officetel_map.save(\"officetel_folium.html\") "
   ]
  }
 ],
 "metadata": {
  "kernelspec": {
   "display_name": "base",
   "language": "python",
   "name": "python3"
  },
  "language_info": {
   "codemirror_mode": {
    "name": "ipython",
    "version": 3
   },
   "file_extension": ".py",
   "mimetype": "text/x-python",
   "name": "python",
   "nbconvert_exporter": "python",
   "pygments_lexer": "ipython3",
   "version": "3.9.13"
  },
  "orig_nbformat": 4
 },
 "nbformat": 4,
 "nbformat_minor": 2
}
