{
 "cells": [
  {
   "cell_type": "code",
   "execution_count": null,
   "metadata": {},
   "outputs": [],
   "source": [
    "import feature_pp as fp\n",
    "import matplotlib.pyplot as plt\n",
    "import seaborn as sns\n",
    "plt.rcParams[\"font.family\"] = \"NanumGothic\"\n",
    "from datetime import datetime\n",
    "\n",
    "df = fp.get_finaldf()\n"
   ]
  },
  {
   "cell_type": "markdown",
   "metadata": {},
   "source": [
    "# 이상치 확인"
   ]
  },
  {
   "cell_type": "code",
   "execution_count": null,
   "metadata": {},
   "outputs": [],
   "source": [
    "\n",
    "# 이상치 확인\n",
    "# 1) box plot\n",
    "def box_plt(df):\n",
    "    num_col = df.select_dtypes(include=['int64','float64']).columns.tolist()\n",
    "    fig, axes = plt.subplots(len(num_col),1, figsize=(8,85))\n",
    "    row = 0\n",
    "\n",
    "    for i in num_col:\n",
    "        sns.boxplot(data =df, x= i, ax =axes[row])\n",
    "        row += 1\n",
    "\n",
    "    plt.tight_layout()\n",
    "    plt.show()"
   ]
  },
  {
   "cell_type": "markdown",
   "metadata": {},
   "source": [
    "# 왜도, 첨도"
   ]
  },
  {
   "cell_type": "code",
   "execution_count": null,
   "metadata": {},
   "outputs": [],
   "source": [
    "def skew_kurt_graph(df):\n",
    "    temp_col=[]\n",
    "    for col in df.columns:\n",
    "        if (abs(df[col].skew()) > 2) or (abs(df[col].kurt()) > 3):\n",
    "            #print(col, 'skew: ',df[col].skew(), 'kurt: ',df[col].kurt())\n",
    "            temp_col.append(col)\n",
    "    temp_col\n",
    "\n",
    "    for col in temp_col:\n",
    "        sns.displot(df[col])\n",
    "        plt.show()"
   ]
  }
 ],
 "metadata": {
  "language_info": {
   "name": "python"
  },
  "orig_nbformat": 4
 },
 "nbformat": 4,
 "nbformat_minor": 2
}
